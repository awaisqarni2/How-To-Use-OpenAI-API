{
 "cells": [
  {
   "cell_type": "code",
   "execution_count": 2,
   "id": "cf60e83c-5bc9-41ad-9dd2-1e1122d91e1c",
   "metadata": {},
   "outputs": [
    {
     "name": "stdout",
     "output_type": "stream",
     "text": [
      "Requirement already satisfied: openai in c:\\users\\fg khan\\miniconda3\\envs\\tensorflow_env\\lib\\site-packages (0.28.0)\n",
      "Requirement already satisfied: requests>=2.20 in c:\\users\\fg khan\\miniconda3\\envs\\tensorflow_env\\lib\\site-packages (from openai) (2.32.3)\n",
      "Requirement already satisfied: tqdm in c:\\users\\fg khan\\miniconda3\\envs\\tensorflow_env\\lib\\site-packages (from openai) (4.66.6)\n",
      "Requirement already satisfied: aiohttp in c:\\users\\fg khan\\miniconda3\\envs\\tensorflow_env\\lib\\site-packages (from openai) (3.10.10)\n",
      "Requirement already satisfied: charset-normalizer<4,>=2 in c:\\users\\fg khan\\miniconda3\\envs\\tensorflow_env\\lib\\site-packages (from requests>=2.20->openai) (3.4.0)\n",
      "Requirement already satisfied: idna<4,>=2.5 in c:\\users\\fg khan\\miniconda3\\envs\\tensorflow_env\\lib\\site-packages (from requests>=2.20->openai) (3.10)\n",
      "Requirement already satisfied: urllib3<3,>=1.21.1 in c:\\users\\fg khan\\miniconda3\\envs\\tensorflow_env\\lib\\site-packages (from requests>=2.20->openai) (2.2.3)\n",
      "Requirement already satisfied: certifi>=2017.4.17 in c:\\users\\fg khan\\miniconda3\\envs\\tensorflow_env\\lib\\site-packages (from requests>=2.20->openai) (2024.8.30)\n",
      "Requirement already satisfied: aiohappyeyeballs>=2.3.0 in c:\\users\\fg khan\\miniconda3\\envs\\tensorflow_env\\lib\\site-packages (from aiohttp->openai) (2.4.3)\n",
      "Requirement already satisfied: aiosignal>=1.1.2 in c:\\users\\fg khan\\miniconda3\\envs\\tensorflow_env\\lib\\site-packages (from aiohttp->openai) (1.3.1)\n",
      "Requirement already satisfied: attrs>=17.3.0 in c:\\users\\fg khan\\miniconda3\\envs\\tensorflow_env\\lib\\site-packages (from aiohttp->openai) (24.2.0)\n",
      "Requirement already satisfied: frozenlist>=1.1.1 in c:\\users\\fg khan\\miniconda3\\envs\\tensorflow_env\\lib\\site-packages (from aiohttp->openai) (1.5.0)\n",
      "Requirement already satisfied: multidict<7.0,>=4.5 in c:\\users\\fg khan\\miniconda3\\envs\\tensorflow_env\\lib\\site-packages (from aiohttp->openai) (6.1.0)\n",
      "Requirement already satisfied: yarl<2.0,>=1.12.0 in c:\\users\\fg khan\\miniconda3\\envs\\tensorflow_env\\lib\\site-packages (from aiohttp->openai) (1.17.1)\n",
      "Requirement already satisfied: async-timeout<5.0,>=4.0 in c:\\users\\fg khan\\miniconda3\\envs\\tensorflow_env\\lib\\site-packages (from aiohttp->openai) (4.0.3)\n",
      "Requirement already satisfied: colorama in c:\\users\\fg khan\\miniconda3\\envs\\tensorflow_env\\lib\\site-packages (from tqdm->openai) (0.4.6)\n",
      "Requirement already satisfied: typing-extensions>=4.1.0 in c:\\users\\fg khan\\miniconda3\\envs\\tensorflow_env\\lib\\site-packages (from multidict<7.0,>=4.5->aiohttp->openai) (4.12.2)\n",
      "Requirement already satisfied: propcache>=0.2.0 in c:\\users\\fg khan\\miniconda3\\envs\\tensorflow_env\\lib\\site-packages (from yarl<2.0,>=1.12.0->aiohttp->openai) (0.2.0)\n",
      "Note: you may need to restart the kernel to use updated packages.\n"
     ]
    }
   ],
   "source": [
    "pip install openai"
   ]
  },
  {
   "cell_type": "code",
   "execution_count": null,
   "id": "b566da38-4372-48cd-8656-01ed56fc902c",
   "metadata": {},
   "outputs": [],
   "source": [
    "import openai"
   ]
  },
  {
   "cell_type": "code",
   "execution_count": null,
   "id": "14aeb512",
   "metadata": {},
   "outputs": [],
   "source": [
    "openai.api_key = \"Paste your API_key here\""
   ]
  },
  {
   "cell_type": "code",
   "execution_count": null,
   "id": "b8dae755-a9c5-4eac-a172-955b1907d29f",
   "metadata": {},
   "outputs": [
    {
     "name": "stdout",
     "output_type": "stream",
     "text": [
      "I love Pakistan =>> Sentiment analysis is: positive\n"
     ]
    }
   ],
   "source": [
    "def sentiment_analysis(text):\n",
    "    import openai\n",
    "\n",
    "    # Set up the API key (avoid using your actual key here; load it securely from environment variables if possible)\n",
    "    openai.api_key = \"Paste your API_key here\"\n",
    "\n",
    "    messages = [\n",
    "        {\"role\": \"system\", \"content\": \"You are trained to analyze and detect the sentiment of given text. If you're unsure of an answer, you can say 'not sure' and recommend users to review manually.\"},\n",
    "        {\"role\": \"user\", \"content\": f\"Analyze the following text and determine if the sentiment is positive or negative. Return answer in a single word as either 'positive' or 'negative': {text}\"}\n",
    "    ]\n",
    "\n",
    "    response = openai.ChatCompletion.create(\n",
    "        model=\"gpt-3.5-turbo\",\n",
    "        messages=messages,\n",
    "        temperature=0\n",
    "    )\n",
    "\n",
    "    organized_response = response.choices[0].message['content'].strip()\n",
    "    return organized_response\n",
    "\n",
    "prompt = \"I love Pakistan\"\n",
    "res = sentiment_analysis(prompt)\n",
    "print(f\"{prompt} =>> Sentiment analysis is: {res}\")\n"
   ]
  }
 ],
 "metadata": {
  "kernelspec": {
   "display_name": "Python 3.10 (tensorflow_env)",
   "language": "python",
   "name": "tensorflow_env"
  },
  "language_info": {
   "codemirror_mode": {
    "name": "ipython",
    "version": 3
   },
   "file_extension": ".py",
   "mimetype": "text/x-python",
   "name": "python",
   "nbconvert_exporter": "python",
   "pygments_lexer": "ipython3",
   "version": "3.10.15"
  }
 },
 "nbformat": 4,
 "nbformat_minor": 5
}
