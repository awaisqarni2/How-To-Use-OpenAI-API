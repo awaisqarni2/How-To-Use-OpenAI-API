{
 "cells": [
  {
   "cell_type": "code",
   "execution_count": 12,
   "id": "cf60e83c-5bc9-41ad-9dd2-1e1122d91e1c",
   "metadata": {},
   "outputs": [],
   "source": [
    "import openai"
   ]
  },
  {
   "cell_type": "code",
   "execution_count": 2,
   "id": "b566da38-4372-48cd-8656-01ed56fc902c",
   "metadata": {},
   "outputs": [],
   "source": [
    "openai.api_key = \"pase you key here\""
   ]
  },
  {
   "cell_type": "code",
   "execution_count": 20,
   "id": "b8dae755-a9c5-4eac-a172-955b1907d29f",
   "metadata": {},
   "outputs": [
    {
     "name": "stdout",
     "output_type": "stream",
     "text": [
      "I love Pakistan =>> Sentiment analysis is: positive\n"
     ]
    }
   ],
   "source": [
    "def sentiment_analysis(text):\n",
    "    import openai\n",
    "\n",
    "    # Set up the API key (avoid using your actual key here; load it securely from environment variables if possible)\n",
    "    openai.api_key = \"Paste Your API_key here\"\n",
    "\n",
    "    messages = [\n",
    "        {\"role\": \"system\", \"content\": \"You are trained to analyze and detect the sentiment of given text. If you're unsure of an answer, you can say 'not sure' and recommend users to review manually.\"},\n",
    "        {\"role\": \"user\", \"content\": f\"Analyze the following text and determine if the sentiment is positive or negative. Return answer in a single word as either 'positive' or 'negative': {text}\"}\n",
    "    ]\n",
    "\n",
    "    response = openai.ChatCompletion.create(\n",
    "        model=\"gpt-3.5-turbo\",\n",
    "        messages=messages,\n",
    "        temperature=0\n",
    "    )\n",
    "\n",
    "    organized_response = response.choices[0].message['content'].strip()\n",
    "    return organized_response\n",
    "\n",
    "prompt = \"I love Pakistan\"\n",
    "res = sentiment_analysis(prompt)\n",
    "print(f\"{prompt} =>> Sentiment analysis is: {res}\")\n"
   ]
  }
 ],
 "metadata": {
  "kernelspec": {
   "display_name": "Python 3.10 (tensorflow_env)",
   "language": "python",
   "name": "tensorflow_env"
  },
  "language_info": {
   "codemirror_mode": {
    "name": "ipython",
    "version": 3
   },
   "file_extension": ".py",
   "mimetype": "text/x-python",
   "name": "python",
   "nbconvert_exporter": "python",
   "pygments_lexer": "ipython3",
   "version": "3.10.15"
  }
 },
 "nbformat": 4,
 "nbformat_minor": 5
}
