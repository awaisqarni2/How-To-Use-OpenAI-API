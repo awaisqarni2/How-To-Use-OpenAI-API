{
 "cells": [
  {
   "cell_type": "code",
   "execution_count": null,
   "id": "f8dcaa94-6d15-4362-aca4-6871589466cd",
   "metadata": {},
   "outputs": [],
   "source": [
    "!pip install openai"
   ]
  },
  {
   "cell_type": "code",
   "execution_count": 4,
   "id": "ecb3fbf5-dbb5-4949-9c58-8a9ced9b04a1",
   "metadata": {},
   "outputs": [],
   "source": [
    "import openai"
   ]
  },
  {
   "cell_type": "code",
   "execution_count": null,
   "id": "ecd712e1-89ff-45e2-8778-aa681a723e3a",
   "metadata": {},
   "outputs": [],
   "source": [
    "openai.api_key = 'paste you api here'"
   ]
  },
  {
   "cell_type": "code",
   "execution_count": null,
   "id": "9d379bc0-1749-4562-a732-69bdaeeba39e",
   "metadata": {},
   "outputs": [],
   "source": [
    "!pip install Pillow"
   ]
  },
  {
   "cell_type": "code",
   "execution_count": null,
   "id": "64a278c3-379d-40ae-b13b-91e09babaad7",
   "metadata": {},
   "outputs": [],
   "source": [
    "# here are the python libraries that required for our project\n",
    "import io #input output library\n",
    "import openai\n",
    "import requests \n",
    "import PIL  #python image libraray // provide support for images\n",
    "from PIL import Image # more specify that i neet \"image module form ptl library\"\n",
    "\n",
    "openai.api_key = 'paste you api here'\n",
    "\n",
    "def generate_image(text):\n",
    "    # Generate the image using OpenAI's DALL-E model\n",
    "    response = openai.Image.create( # goto openai, use image model and then create(what)  //last time we we ChatCompletion model\n",
    "        model = \"dall-e-2\",\n",
    "        prompt=text,  #here we give our prompt text\n",
    "        n=1, #number of respose //how many images that he create\n",
    "        size = \"512x512\"  #how many image_size openai dell-e model provide // small size image recommended //when you create bigsize image then abously it will use more cridets\n",
    "        )\n",
    "        #it give link of image, then we display this image form link and download it\n",
    "\n",
    "    # Get the image URL from the response\n",
    "    image_url = response.data[0]['url']\n",
    "\n",
    "    # Download the image and convert it to a PIL image\n",
    "    image_content = requests.get(image_url).content     #requests.get(\"url\") //download any image from url\n",
    "    image = Image.open(io.BytesIO(image_content))       #conert the image into format that we are able to display it. //for more details explore youreself\n",
    "    image.show()"
   ]
  },
  {
   "cell_type": "code",
   "execution_count": 14,
   "id": "c45fc7cd-a66b-4a14-addc-93033e7ab3e9",
   "metadata": {},
   "outputs": [
    {
     "name": "stdout",
     "output_type": "stream",
     "text": [
      "Enter your prompt to generate the image:  a pink elephent walking on the road\n"
     ]
    }
   ],
   "source": [
    "prompt = input(\"Enter your prompt to generate the image: \")\n",
    "generate_image(prompt)\n",
    "# print(type(output))"
   ]
  }
 ],
 "metadata": {
  "kernelspec": {
   "display_name": "Python 3.10 (tensorflow_env)",
   "language": "python",
   "name": "tensorflow_env"
  },
  "language_info": {
   "codemirror_mode": {
    "name": "ipython",
    "version": 3
   },
   "file_extension": ".py",
   "mimetype": "text/x-python",
   "name": "python",
   "nbconvert_exporter": "python",
   "pygments_lexer": "ipython3",
   "version": "3.10.15"
  }
 },
 "nbformat": 4,
 "nbformat_minor": 5
}
