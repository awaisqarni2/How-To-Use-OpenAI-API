{
 "cells": [
  {
   "cell_type": "code",
   "execution_count": null,
   "metadata": {
    "vscode": {
     "languageId": "plaintext"
    }
   },
   "outputs": [],
   "source": [
    "import openai\n",
    "\n",
    "openai.api_key = 'YOUR_API_KEY'\n",
    "\n",
    "def generate_blog(topic):\n",
    "    messages = [\n",
    "        {\"role\": \"system\", \"content\": \"You are trained to analyze a topic and generate a 1500-3000 word blog post.\"},\n",
    "        {\"role\": \"user\", \"content\": f\"Create a blog post on: {topic}\"}\n",
    "    ]\n",
    "    response = openai.ChatCompletion.create(\n",
    "        model=\"gpt-3.5-turbo\",\n",
    "        messages=messages,\n",
    "        max_tokens=3000,\n",
    "        temperature=0.5\n",
    "    )\n",
    "    return response.choices[0].message.content.strip()\n",
    "\n",
    "blog_topic = \"Machine Learning\"\n",
    "print(generate_blog(blog_topic))"
   ]
  }
 ],
 "metadata": {
  "language_info": {
   "name": "python"
  }
 },
 "nbformat": 4,
 "nbformat_minor": 2
}
